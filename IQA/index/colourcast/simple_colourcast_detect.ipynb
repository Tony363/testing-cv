{
 "cells": [
  {
   "cell_type": "code",
   "execution_count": 2,
   "metadata": {},
   "outputs": [],
   "source": [
    "import cv2 as cv\r\n",
    "import numpy as np"
   ]
  },
  {
   "cell_type": "code",
   "execution_count": 1,
   "metadata": {},
   "outputs": [],
   "source": [
    "def count_most_frequency_number(input_array):\r\n",
    "    flatten_array = input_array.flatten()\r\n",
    "    temp_array = np.bincount(flatten_array)\r\n",
    "    f_number = np.argmax(temp_array)\r\n",
    "\r\n",
    "    return (input_array==f_number).sum()\r\n",
    "    \r\n",
    "def colourcast_detection(input_image):\r\n",
    "    h, w, c = input_image.shape\r\n",
    "    total_pixel = h * w\r\n",
    "\r\n",
    "    high_exposure = []\r\n",
    "    high_exposure_2 = []\r\n",
    "    for color in range(c):\r\n",
    "        few_amount_pixel = 0\r\n",
    "        threshold = count_most_frequency_number(input_image[:, :, color]) * 0.02\r\n",
    "    \r\n",
    "        for i in range(10):\r\n",
    "            if (input_image[:, :, color] == (246 + i)).sum() < threshold:\r\n",
    "                few_amount_pixel += 1\r\n",
    "\r\n",
    "        for i in range(246):\r\n",
    "            if (input_image[:, :, color] == (245 - i)).sum() < threshold:\r\n",
    "                few_amount_pixel += 1\r\n",
    "            else:\r\n",
    "                break\r\n",
    "\r\n",
    "        high_exposure.append(few_amount_pixel)\r\n",
    "\r\n",
    "        if (input_image[:, :, color]>=235).sum() < (total_pixel*0.01):\r\n",
    "            high_exposure_2.append(1)\r\n",
    "        else:\r\n",
    "            high_exposure_2.append(0)\r\n",
    "\r\n",
    "\r\n",
    "    print(\"consecutively missing in high [B, G, R] =\", high_exposure)\r\n",
    "    print(\"amount of pixel in high [B, G, R] =\", high_exposure_2)"
   ]
  },
  {
   "cell_type": "code",
   "execution_count": 4,
   "metadata": {},
   "outputs": [],
   "source": [
    "img = cv.imread(\"../test.jpg\")"
   ]
  },
  {
   "cell_type": "code",
   "execution_count": 5,
   "metadata": {},
   "outputs": [
    {
     "name": "stdout",
     "output_type": "stream",
     "text": [
      "consecutively missing in high [B, G, R] = [121, 121, 121]\n",
      "amount of pixel in high [B, G, R] = [1, 1, 1]\n"
     ]
    }
   ],
   "source": [
    "colourcast_detection(img)"
   ]
  },
  {
   "cell_type": "code",
   "execution_count": null,
   "metadata": {},
   "outputs": [],
   "source": []
  }
 ],
 "metadata": {
  "interpreter": {
   "hash": "acb2f1b72adfe6a56244d0c68d8da1ed90025643e45b6f007c28b0566da7240d"
  },
  "kernelspec": {
   "display_name": "Python 3.8.6 64-bit",
   "name": "python3"
  },
  "language_info": {
   "codemirror_mode": {
    "name": "ipython",
    "version": 3
   },
   "file_extension": ".py",
   "mimetype": "text/x-python",
   "name": "python",
   "nbconvert_exporter": "python",
   "pygments_lexer": "ipython3",
   "version": "3.8.6"
  },
  "metadata": {
   "interpreter": {
    "hash": "acb2f1b72adfe6a56244d0c68d8da1ed90025643e45b6f007c28b0566da7240d"
   }
  },
  "orig_nbformat": 2
 },
 "nbformat": 4,
 "nbformat_minor": 2
}