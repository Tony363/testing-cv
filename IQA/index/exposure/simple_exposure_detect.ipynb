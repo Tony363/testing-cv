{
 "cells": [
  {
   "cell_type": "code",
   "execution_count": 1,
   "metadata": {},
   "outputs": [],
   "source": [
    "import cv2 as cv\r\n",
    "import numpy as np"
   ]
  },
  {
   "cell_type": "markdown",
   "metadata": {},
   "source": [
    "exposure\r\n",
    "\r\n",
    "法一 \r\n",
    "普測\r\n",
    "\r\n",
    "若標準差低於45 (255*0.25*0.7 = 44.625)，平均數低於 100 視為曝光太少，高於 155 視為過曝\r\n",
    "\r\n",
    "法二 \r\n",
    "曝光不足\r\n",
    "\r\n",
    "一個pixel數量若低於最多pixel的1%視為稀少，通常曝光太少的照片在高pixel的地方會有一連串的缺失\r\n",
    "\r\n",
    "若一張照片超過230強度的數量低於1%，則是為曝光不足"
   ]
  },
  {
   "cell_type": "code",
   "execution_count": 2,
   "metadata": {},
   "outputs": [],
   "source": [
    "def exposure_detection(input_image):\r\n",
    "\r\n",
    "    print(input_image.std(), input_image.mean())\r\n",
    "\r\n",
    "    if input_image.std() < 45:\r\n",
    "        if input_image.mean() < 100:\r\n",
    "            print(\"exposure error : underexposure\")\r\n",
    "        elif input_image.mean() > 155:\r\n",
    "            print(\"exposure error : overexposure\")\r\n",
    "        else:\r\n",
    "            print(\"exposure error : gray\")\r\n",
    "    else:\r\n",
    "        print(\"exposure normal\")"
   ]
  },
  {
   "cell_type": "code",
   "execution_count": 3,
   "metadata": {},
   "outputs": [],
   "source": [
    "def count_most_frequency_number(input_array):\r\n",
    "    flatten_array = input_array.flatten()\r\n",
    "    temp_array = np.bincount(flatten_array)\r\n",
    "    f_number = np.argmax(temp_array)\r\n",
    "\r\n",
    "    return (input_array==f_number).sum()\r\n",
    "\r\n",
    "def underexposure_detection(input_image):\r\n",
    "    h, w, c = input_image.shape\r\n",
    "    total_pixel = h * w * c\r\n",
    "\r\n",
    "    threshold = count_most_frequency_number(input_image) * 0.02\r\n",
    "\r\n",
    "    result = 0\r\n",
    "    for i in range(10):\r\n",
    "        if (input_image == (246 + i)).sum() < threshold:\r\n",
    "            result += 1\r\n",
    "\r\n",
    "    for i in range(246):\r\n",
    "        if ((input_image == (245 - i)).sum() > threshold):\r\n",
    "            break\r\n",
    "        else:\r\n",
    "            result += 1\r\n",
    "\r\n",
    "    print(\"consecutively missing in high pixels :\", result)\r\n",
    "    print(\"amount of pixels in high value:\", (input_image>=230).sum() < (total_pixel*0.01))\r\n",
    "\r\n",
    "    if (result >= 20) and (input_image>=230).sum() < (total_pixel*0.01):\r\n",
    "        print(\"error\")"
   ]
  },
  {
   "cell_type": "code",
   "execution_count": 5,
   "metadata": {},
   "outputs": [],
   "source": [
    "img = cv.imread(\"../test.jpg\")"
   ]
  },
  {
   "cell_type": "code",
   "execution_count": 6,
   "metadata": {},
   "outputs": [
    {
     "name": "stdout",
     "output_type": "stream",
     "text": [
      "12.83520578096374 96.51200441113946\n",
      "exposure error : underexposure\n"
     ]
    }
   ],
   "source": [
    "exposure_detection(img)"
   ]
  },
  {
   "cell_type": "code",
   "execution_count": 7,
   "metadata": {},
   "outputs": [
    {
     "name": "stdout",
     "output_type": "stream",
     "text": [
      "consecutively missing in high pixels : 121\n",
      "amount of pixels in high value: True\n",
      "error\n"
     ]
    }
   ],
   "source": [
    "underexposure_detection(img)"
   ]
  },
  {
   "cell_type": "code",
   "execution_count": null,
   "metadata": {},
   "outputs": [],
   "source": []
  }
 ],
 "metadata": {
  "interpreter": {
   "hash": "acb2f1b72adfe6a56244d0c68d8da1ed90025643e45b6f007c28b0566da7240d"
  },
  "kernelspec": {
   "display_name": "Python 3.8.6 64-bit",
   "name": "python3"
  },
  "language_info": {
   "codemirror_mode": {
    "name": "ipython",
    "version": 3
   },
   "file_extension": ".py",
   "mimetype": "text/x-python",
   "name": "python",
   "nbconvert_exporter": "python",
   "pygments_lexer": "ipython3",
   "version": "3.8.6"
  },
  "metadata": {
   "interpreter": {
    "hash": "acb2f1b72adfe6a56244d0c68d8da1ed90025643e45b6f007c28b0566da7240d"
   }
  },
  "orig_nbformat": 2
 },
 "nbformat": 4,
 "nbformat_minor": 2
}