{
 "cells": [
  {
   "cell_type": "code",
   "execution_count": 1,
   "source": [
    "import cv2 as cv\r\n",
    "import numpy as np"
   ],
   "outputs": [],
   "metadata": {}
  },
  {
   "cell_type": "markdown",
   "source": [
    "## 夜景偵測\r\n",
    "### 通常紫邊會發生在白天戶外或是光線充足的光源旁，故先將histogram集中在較低Pixel的照片排除，避免後續演算法錯估。"
   ],
   "metadata": {}
  },
  {
   "cell_type": "code",
   "execution_count": 2,
   "source": [
    "def night_view_detect(img_input):\r\n",
    "    if img_input.mean() < 80 and img_input.std() < 60:\r\n",
    "        return True\r\n",
    "    else:\r\n",
    "        return False"
   ],
   "outputs": [],
   "metadata": {}
  },
  {
   "cell_type": "markdown",
   "source": [
    "## 色偏偵測\r\n",
    "### 排除掉整張照片偏藍且缺乏綠色，避免因紫光或是紫色物體影響結果"
   ],
   "metadata": {}
  },
  {
   "cell_type": "code",
   "execution_count": 3,
   "source": [
    "def colour_purple_cast_detect(img_input):\r\n",
    "    img_input_float = img_input.astype(np.float32) / 255.0\r\n",
    "    # np_Y = 0.229 * img_input_float[:, :, 2] + 0.587*img_input_float[:, :, 1] + 0.114*img_input_float[:, :, 0] \r\n",
    "    np_Cb = -0.169 * img_input_float[:, :, 2] - 0.331*img_input_float[:, :, 1] + 0.5*img_input_float[:, :, 0]\r\n",
    "    np_Cr = 0.5 * img_input_float[:, :, 2] - 0.419*img_input_float[:, :, 1] - 0.081*img_input_float[:, :, 0]\r\n",
    "\r\n",
    "    # count purple distance\r\n",
    "    np_p_diff_Cb = np_Cb - 0.331\r\n",
    "    np_p_diff_Cr = np_Cr - 0.42\r\n",
    "\r\n",
    "    np_p_dist = np.sqrt(np_p_diff_Cb * np_p_diff_Cb + np_p_diff_Cr * np_p_diff_Cr)\r\n",
    "\r\n",
    "    # count green distance\r\n",
    "    np_g_diff_Cb = np_Cb + 0.331\r\n",
    "    np_g_diff_Cr = np_Cr + 0.42\r\n",
    "\r\n",
    "    np_g_dist = np.sqrt(np_g_diff_Cb*np_g_diff_Cb + np_g_diff_Cr*np_g_diff_Cr)\r\n",
    "\r\n",
    "    if (np_p_dist / np_g_dist).mean() < 0.89: # threshold can be [0.88, 0.9]\r\n",
    "        return True\r\n",
    "    else:\r\n",
    "        return False"
   ],
   "outputs": [],
   "metadata": {}
  },
  {
   "cell_type": "markdown",
   "source": [
    "## 紫邊偵測\r\n",
    "### 參考 Kannan Karthik, Parveen Malik, \"Purple Fringing Aberration Detection Based on Content-Adaptable Thresholds\", \r\n",
    "### Parveen Malik, Kannan Karthik, \"Correction of complex purple fringing by green-channel compensation and local luminance adaptation\"\r\n",
    "### Baek-Kyu Kim, Rae-Hong Park, \"AUTOMATIC DETECTION AND CORRECTION OF PURPLE FRINGING USING THE GRADIENT INFORMATION AND DESATURATION\"\r\n",
    "### 這些 paper 方法"
   ],
   "metadata": {}
  },
  {
   "cell_type": "code",
   "execution_count": 4,
   "source": [
    "def purple_fringing_detect(img_input):\r\n",
    "    # get HSV purple region\r\n",
    "    # ===================================\r\n",
    "    img_HSV = cv.cvtColor(img_input, cv.COLOR_BGR2HSV)\r\n",
    "    low = np.array([120, 20, 20])\r\n",
    "    high = np.array([140, 255, 255])\r\n",
    "    mask_HSV_purple = cv.inRange(img_HSV, low, high)\r\n",
    "\r\n",
    "    # change BGR to YCbCr\r\n",
    "    # get YCbCr purple region\r\n",
    "    # ====================================\r\n",
    "    img_input_float = img_input.astype(np.float32) / 255.0\r\n",
    "    np_Y = 0.229 * img_input_float[:, :, 2] + 0.587*img_input_float[:, :, 1] + 0.114*img_input_float[:, :, 0] \r\n",
    "    np_Cb = -0.169 * img_input_float[:, :, 2] - 0.331*img_input_float[:, :, 1] + 0.5*img_input_float[:, :, 0]\r\n",
    "    np_Cr = 0.5 * img_input_float[:, :, 2] - 0.419*img_input_float[:, :, 1] - 0.081*img_input_float[:, :, 0]\r\n",
    "\r\n",
    "    # according to paper, get YCbCr purple region\r\n",
    "    # count purple distance\r\n",
    "    np_p_diff_Cb = np_Cb - 0.331\r\n",
    "    np_p_diff_Cr = np_Cr - 0.42\r\n",
    "    np_p_dist = np.sqrt(np_p_diff_Cb * np_p_diff_Cb + np_p_diff_Cr * np_p_diff_Cr)\r\n",
    "\r\n",
    "    # count green distance\r\n",
    "    np_g_diff_Cb = np_Cb + 0.331\r\n",
    "    np_g_diff_Cr = np_Cr + 0.42\r\n",
    "    np_g_dist = np.sqrt(np_g_diff_Cb*np_g_diff_Cb + np_g_diff_Cr*np_g_diff_Cr)\r\n",
    "\r\n",
    "\r\n",
    "    kernel = np.ones((5, 5)) / 25\r\n",
    "\r\n",
    "    np_p_dist_2 = cv.filter2D(np_p_dist, -1, kernel)\r\n",
    "    np_g_dist_2 = cv.filter2D(np_g_dist, -1, kernel)\r\n",
    "\r\n",
    "    # 0.9 is a threhold [0.85, 0.95]\r\n",
    "    mask_YCbCr_purple = (np_p_dist_2 / np_g_dist_2) < 0.9\r\n",
    "\r\n",
    "    # intersection HSV and YCbCr purple region \r\n",
    "    # ===================================\r\n",
    "    mask_intersection_purple = (mask_HSV_purple==255) & mask_YCbCr_purple\r\n",
    "\r\n",
    "    # count the neighbor purple region \r\n",
    "    # ===================================\r\n",
    "    w_size = 5\r\n",
    "    kernel = np.ones((w_size, w_size)) / (w_size * w_size)\r\n",
    "\r\n",
    "    channel_list = []\r\n",
    "    for c in range(3):\r\n",
    "        img_channel = img_input[:, :, c] * mask_intersection_purple\r\n",
    "        np_tmp = cv.filter2D(img_channel, -1, kernel)\r\n",
    "        channel_list.append(np_tmp * mask_intersection_purple)\r\n",
    "\r\n",
    "    # check if B > G & B > R, that is purple region\r\n",
    "    mask_purple = (channel_list[1] < channel_list[0]) & (channel_list[1] < channel_list[2])\r\n",
    "\r\n",
    "    # calculate NSRs\r\n",
    "    # min is 0.7\r\n",
    "    # ====================================\r\n",
    "    blur = cv.GaussianBlur(np_Y, (5, 5), 0)\r\n",
    "\r\n",
    "    window_size = 11\r\n",
    "    kernel = np.ones((window_size, window_size))\r\n",
    "\r\n",
    "    mean = blur.mean()\r\n",
    "    std = blur.std()\r\n",
    "    alpha = 1.5\r\n",
    "    threshold = mean + alpha * std\r\n",
    "    threshold = max(threshold, 0.7)\r\n",
    "\r\n",
    "    mask_NSRs = blur > threshold\r\n",
    "\r\n",
    "    mask_expand_NSRs = cv.dilate(mask_NSRs.astype(np.uint8), kernel, iterations = 1)\r\n",
    "\r\n",
    "    # calculate HIGH-CONTRAST NSRs\r\n",
    "    # ===================================\r\n",
    "    sobelx = cv.Sobel(blur, cv.CV_64F, 1, 0, ksize=5)\r\n",
    "    sobely = cv.Sobel(blur, cv.CV_64F, 0, 1, ksize=5)\r\n",
    "\r\n",
    "    M = np.sqrt(sobelx*sobelx + sobely*sobely)\r\n",
    "\r\n",
    "    M_mean = M.mean()\r\n",
    "    M_std = M.std()\r\n",
    "    alpha = 3\r\n",
    "    M_t = M_mean + alpha * M_std\r\n",
    "\r\n",
    "    mask_NSRs_2 = M > M_t    \r\n",
    "\r\n",
    "    mask_expand_NSRs_2 = cv.dilate(mask_NSRs_2.astype(np.uint8), kernel, iterations = 1)\r\n",
    "\r\n",
    "    # intersection 2 HSR mask\r\n",
    "    mask_nearNSR_purple = mask_purple & mask_expand_NSRs & mask_expand_NSRs_2\r\n",
    "\r\n",
    "    # use connected compoent to remove few pixels regions\r\n",
    "    #====================================\r\n",
    "    num_comp, comp_labels, comp_stats, comp_centroid = cv.connectedComponentsWithStats(mask_nearNSR_purple.astype(np.uint8))\r\n",
    "\r\n",
    "    # threshold = total pixels * 10^-5\r\n",
    "    threshold = img_input.shape[0]*img_input.shape[1]*1e-5\r\n",
    "\r\n",
    "    set_filter = set(np.arange(num_comp) * (comp_stats[:, 4] > threshold))\r\n",
    "    set_filter.remove(0)\r\n",
    "    list_filter = list(set_filter)\r\n",
    "    final_mask = np.isin(comp_labels, list_filter)\r\n",
    "\r\n",
    "    return final_mask"
   ],
   "outputs": [],
   "metadata": {}
  },
  {
   "cell_type": "code",
   "execution_count": 26,
   "source": [
    "img = cv.imread(\"../test.jpg\")"
   ],
   "outputs": [],
   "metadata": {}
  },
  {
   "cell_type": "code",
   "execution_count": 27,
   "source": [
    "if night_view_detect(img):\r\n",
    "    print(\"night view\")\r\n",
    "elif colour_purple_cast_detect(img):\r\n",
    "    print(\"colour purple cast\")\r\n",
    "else:\r\n",
    "    purple_fring_mask = purple_fringing_detect(img)\r\n",
    "\r\n",
    "    if (purple_fring_mask).sum() > 1e-5 :\r\n",
    "        print(\"Purple fringing found\")\r\n",
    "    else:\r\n",
    "        print(\"normal\")\r\n"
   ],
   "outputs": [
    {
     "output_type": "stream",
     "name": "stdout",
     "text": [
      "Purple fringing found\n"
     ]
    }
   ],
   "metadata": {}
  },
  {
   "cell_type": "code",
   "execution_count": 28,
   "source": [
    "def draw_purple_fringing(input_image, mask):\r\n",
    "    imask = mask != True\r\n",
    "    img_purple = np.dstack((( 255*mask + input_image[:, :, 0]*imask), \\\r\n",
    "                            (   0*mask + input_image[:, :, 1]*imask), \\\r\n",
    "                            ( 255*mask + input_image[:, :, 2]*imask)))\r\n",
    "    return img_purple"
   ],
   "outputs": [],
   "metadata": {}
  },
  {
   "cell_type": "code",
   "execution_count": 33,
   "source": [
    "img_purple = draw_purple_fringing(img, purple_fring_mask)\r\n",
    "\r\n",
    "cv.imshow(\"\", cv.resize(img_purple.astype(np.uint8), (700, 700)) )\r\n",
    "cv.waitKey()"
   ],
   "outputs": [
    {
     "output_type": "execute_result",
     "data": {
      "text/plain": [
       "-1"
      ]
     },
     "metadata": {},
     "execution_count": 33
    }
   ],
   "metadata": {}
  }
 ],
 "metadata": {
  "orig_nbformat": 4,
  "language_info": {
   "name": "python",
   "version": "3.8.10",
   "mimetype": "text/x-python",
   "codemirror_mode": {
    "name": "ipython",
    "version": 3
   },
   "pygments_lexer": "ipython3",
   "nbconvert_exporter": "python",
   "file_extension": ".py"
  },
  "kernelspec": {
   "name": "python3",
   "display_name": "Python 3.8.10 64-bit (windows store)"
  },
  "interpreter": {
   "hash": "4925a5c1e05e6e730d7b240fac92ecee7ad5392db8fb5267bc939e853323d4cf"
  }
 },
 "nbformat": 4,
 "nbformat_minor": 2
}