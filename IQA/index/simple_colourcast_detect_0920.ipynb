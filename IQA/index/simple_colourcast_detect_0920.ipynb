{
 "cells": [
  {
   "cell_type": "code",
   "execution_count": 1,
   "source": [
    "import cv2 as cv\r\n",
    "import numpy as np"
   ],
   "outputs": [],
   "metadata": {}
  },
  {
   "cell_type": "markdown",
   "source": [
    "### ===============\r\n",
    "A Color Cast Detection Algorithm of Robust Performance "
   ],
   "metadata": {}
  },
  {
   "cell_type": "code",
   "execution_count": 2,
   "source": [
    "def color_cast(img):\r\n",
    "    # RGB to La*b*\r\n",
    "    img_float = img.astype(np.float32) / 255.0\r\n",
    "\r\n",
    "    np_R = img_float[:, :, 2]\r\n",
    "    np_G = img_float[:, :, 1]\r\n",
    "    np_B = img_float[:, :, 0]\r\n",
    "\r\n",
    "    # RGB to CIE XYZ\r\n",
    "    np_X = 0.412453*np_R + 0.357580*np_G + 0.180423*np_B\r\n",
    "    np_Y = 0.212671*np_R + 0.715160*np_G + 0.072169*np_B\r\n",
    "    np_Z = 0.019334*np_R + 0.119193*np_G + 0.950227*np_B\r\n",
    "\r\n",
    "\r\n",
    "    # CIE XYZ to CIELab\r\n",
    "    def f(t):\r\n",
    "        result1 = t**(1/3)\r\n",
    "        result2 = 7.787*t+(16/116)\r\n",
    "\r\n",
    "        return (t > 0.008856)*result1 + (t <= 0.008856)*result2\r\n",
    "\r\n",
    "\r\n",
    "    np_L_1 = 116 * np_Y ** (1/3) - 16\r\n",
    "    np_L_2 = 903.3 * np_Y\r\n",
    "\r\n",
    "    np_L = (np_Y > 0.008856)*np_L_1 + (np_Y <= 0.008856)*np_L_2\r\n",
    "\r\n",
    "    np_a = 500*(f(np_X/0.9515) - f(np_Y))\r\n",
    "    np_b = 200*(f(np_Y) - f(np_Z/1.0886))\r\n",
    "\r\n",
    "    D =np.sqrt( np_a.mean()**2 + np_b.mean()**2 )\r\n",
    "    M_a = abs(np_a - np_a.mean()).mean()\r\n",
    "    M_b = abs(np_b - np_b.mean()).mean()\r\n",
    "    M = np.sqrt(M_a**2 + M_b**2)\r\n",
    "\r\n",
    "    # K = D / M\r\n",
    "\r\n",
    "    img_gray = cv.cvtColor(img, cv.COLOR_BGR2GRAY)\r\n",
    "    A= 2000\r\n",
    "    K_ = D / (M * max(abs(min( np.var(img_gray) - A, 1)), 1))\r\n",
    "\r\n",
    "    return K_"
   ],
   "outputs": [],
   "metadata": {}
  },
  {
   "cell_type": "code",
   "execution_count": null,
   "source": [
    "import os\r\n",
    "\r\n",
    "d={}\r\n",
    "d[\"Name\"] = []\r\n",
    "d[\"K\"] = []\r\n",
    "\r\n",
    "intput_path = os.getcwd()+'\\..\\\\20200428_Scenes_rear\\\\16_rear\\\\'\r\n",
    "\r\n",
    "for filefullname in os.listdir(intput_path):\r\n",
    "    img_orig = cv.imread(intput_path + filefullname)\r\n",
    "    K_ = color_cast(img_orig)\r\n",
    "\r\n",
    "    d[\"Name\"].append(filefullname)\r\n",
    "    d[\"K\"].append(K_)"
   ],
   "outputs": [],
   "metadata": {}
  }
 ],
 "metadata": {
  "interpreter": {
   "hash": "4925a5c1e05e6e730d7b240fac92ecee7ad5392db8fb5267bc939e853323d4cf"
  },
  "kernelspec": {
   "name": "python3",
   "display_name": "Python 3.8.10 64-bit (windows store)"
  },
  "language_info": {
   "codemirror_mode": {
    "name": "ipython",
    "version": 3
   },
   "file_extension": ".py",
   "mimetype": "text/x-python",
   "name": "python",
   "nbconvert_exporter": "python",
   "pygments_lexer": "ipython3",
   "version": "3.8.10"
  },
  "metadata": {
   "interpreter": {
    "hash": "acb2f1b72adfe6a56244d0c68d8da1ed90025643e45b6f007c28b0566da7240d"
   }
  },
  "orig_nbformat": 2
 },
 "nbformat": 4,
 "nbformat_minor": 2
}