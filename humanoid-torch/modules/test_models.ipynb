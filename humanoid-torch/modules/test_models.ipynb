{
 "cells": [
  {
   "cell_type": "code",
   "execution_count": 26,
   "metadata": {},
   "outputs": [
    {
     "data": {
      "text/plain": [
       "torch.Size([4, 3, 180, 320])"
      ]
     },
     "execution_count": 26,
     "metadata": {},
     "output_type": "execute_result"
    }
   ],
   "source": [
    "import logging\n",
    "import json\n",
    "import torch\n",
    "\n",
    "from vit_pytorch import ViT\n",
    "from einops import rearrange, repeat\n",
    "from einops.layers.torch import Rearrange\n",
    "from collections import OrderedDict\n",
    "from typing import Tuple\n",
    "\n",
    "x = torch.randn(size=(4,3,180,320))\n",
    "x.shape"
   ]
  },
  {
   "cell_type": "code",
   "execution_count": 8,
   "metadata": {},
   "outputs": [],
   "source": [
    "conv1 = torch.nn.Conv2d(in_channels=3,out_channels=16,kernel_size=3,padding='same')\n",
    "conv2 = torch.nn.Conv2d(in_channels=16,out_channels=32,kernel_size=3,padding='same')\n",
    "conv3 = torch.nn.Conv2d(in_channels=32,out_channels=64,kernel_size=3,padding='same')\n",
    "conv4 = torch.nn.Conv2d(in_channels=64,out_channels=64,kernel_size=3,padding='same')\n",
    "\n",
    "pool_heat = torch.nn.Conv2d(in_channels=64,out_channels=1,kernel_size=1,padding='same')       \n",
    "relu = torch.nn.ReLU()\n",
    "max_pool = torch.nn.MaxPool2d(kernel_size=2,stride=2)\n"
   ]
  },
  {
   "cell_type": "code",
   "execution_count": 27,
   "metadata": {},
   "outputs": [
    {
     "data": {
      "text/plain": [
       "torch.Size([4, 16, 90, 160])"
      ]
     },
     "execution_count": 27,
     "metadata": {},
     "output_type": "execute_result"
    }
   ],
   "source": [
    "out1 = max_pool(relu(conv1(x)))\n",
    "out1.shape"
   ]
  },
  {
   "cell_type": "code",
   "execution_count": 28,
   "metadata": {},
   "outputs": [
    {
     "data": {
      "text/plain": [
       "torch.Size([4, 32, 45, 80])"
      ]
     },
     "execution_count": 28,
     "metadata": {},
     "output_type": "execute_result"
    }
   ],
   "source": [
    "out2 = max_pool(relu(conv2(out1)))\n",
    "out2.shape"
   ]
  },
  {
   "cell_type": "code",
   "execution_count": 30,
   "metadata": {},
   "outputs": [
    {
     "data": {
      "text/plain": [
       "torch.Size([4, 64, 22, 40])"
      ]
     },
     "execution_count": 30,
     "metadata": {},
     "output_type": "execute_result"
    }
   ],
   "source": [
    "out3 = max_pool(relu(conv3(out2)))\n",
    "out3.shape"
   ]
  },
  {
   "cell_type": "code",
   "execution_count": 31,
   "metadata": {},
   "outputs": [
    {
     "data": {
      "text/plain": [
       "torch.Size([4, 1, 22, 40])"
      ]
     },
     "execution_count": 31,
     "metadata": {},
     "output_type": "execute_result"
    }
   ],
   "source": [
    "pool_heat(out3).shape"
   ]
  },
  {
   "attachments": {},
   "cell_type": "markdown",
   "metadata": {},
   "source": [
    "### pool out 3"
   ]
  },
  {
   "cell_type": "code",
   "execution_count": 65,
   "metadata": {},
   "outputs": [
    {
     "data": {
      "text/plain": [
       "torch.Size([1, 4, 880])"
      ]
     },
     "execution_count": 65,
     "metadata": {},
     "output_type": "execute_result"
    }
   ],
   "source": [
    "pool3_heat_in = pool_heat(out3)\n",
    "heat3_in = pool3_heat_in.reshape(-1,4,np.prod([*out3.shape[-2:]]))\n",
    "heat3_in.shape"
   ]
  },
  {
   "cell_type": "code",
   "execution_count": 83,
   "metadata": {},
   "outputs": [
    {
     "data": {
      "text/plain": [
       "torch.Size([1, 4, 880])"
      ]
     },
     "execution_count": 83,
     "metadata": {},
     "output_type": "execute_result"
    }
   ],
   "source": [
    "lstm = torch.nn.LSTM(\n",
    "    input_size=heat3_in.shape[-1],\n",
    "    hidden_size=heat3_in.shape[-1],\n",
    "    num_layers=1,\n",
    "    batch_first=True,\n",
    "    bidirectional=False,\n",
    ")\n",
    "h0 = torch.zeros(\n",
    "    1,\n",
    "    heat3_in.size(0),\n",
    "    heat3_in.shape[-1],\n",
    "    device=x.device\n",
    ").requires_grad_()\n",
    "\n",
    "# Initialize cell state\n",
    "c0 = torch.zeros(\n",
    "    1,\n",
    "    heat3_in.size(0),\n",
    "    heat3_in.shape[-1],\n",
    "    device=x.device\n",
    ").requires_grad_()\n",
    "heat3_out , hidden_state = lstm(heat3_in,(h0,c0))\n",
    "heat3_out.shape\n"
   ]
  },
  {
   "cell_type": "code",
   "execution_count": 84,
   "metadata": {},
   "outputs": [
    {
     "data": {
      "text/plain": [
       "torch.Size([4, 22, 40, 1])"
      ]
     },
     "execution_count": 84,
     "metadata": {},
     "output_type": "execute_result"
    }
   ],
   "source": [
    "heat3_out = heat3_out.reshape(-1,*out3.shape[-2:],1)\n",
    "heat3_out.shape"
   ]
  },
  {
   "cell_type": "code",
   "execution_count": 85,
   "metadata": {},
   "outputs": [
    {
     "data": {
      "text/plain": [
       "torch.Size([4, 1, 22, 40])"
      ]
     },
     "execution_count": 85,
     "metadata": {},
     "output_type": "execute_result"
    }
   ],
   "source": [
    "pool3_heat_in = pool_heat(out3)\n",
    "pool3_heat_in.shape"
   ]
  },
  {
   "cell_type": "code",
   "execution_count": 91,
   "metadata": {},
   "outputs": [
    {
     "data": {
      "text/plain": [
       "torch.Size([1, 22, 40, 1])"
      ]
     },
     "execution_count": 91,
     "metadata": {},
     "output_type": "execute_result"
    }
   ],
   "source": [
    "b = pool3_heat_in.reshape(1,4,22,40,1)[:,4-3,:,:,:]\n",
    "b.shape"
   ]
  },
  {
   "cell_type": "code",
   "execution_count": 92,
   "metadata": {},
   "outputs": [
    {
     "data": {
      "text/plain": [
       "torch.Size([4, 22, 40, 1])"
      ]
     },
     "execution_count": 92,
     "metadata": {},
     "output_type": "execute_result"
    }
   ],
   "source": [
    "pool3_heat_out = torch.add(heat3_out,b)\n",
    "pool3_heat_out.shape\n"
   ]
  },
  {
   "cell_type": "code",
   "execution_count": 94,
   "metadata": {},
   "outputs": [
    {
     "data": {
      "text/plain": [
       "torch.Size([4, 64, 11, 20])"
      ]
     },
     "execution_count": 94,
     "metadata": {},
     "output_type": "execute_result"
    }
   ],
   "source": [
    "out4 = max_pool(relu(conv4(out3)))\n",
    "out4.shape"
   ]
  },
  {
   "attachments": {},
   "cell_type": "markdown",
   "metadata": {},
   "source": [
    "### pool out4"
   ]
  },
  {
   "cell_type": "code",
   "execution_count": 95,
   "metadata": {},
   "outputs": [
    {
     "data": {
      "text/plain": [
       "torch.Size([1, 4, 220])"
      ]
     },
     "execution_count": 95,
     "metadata": {},
     "output_type": "execute_result"
    }
   ],
   "source": [
    "pool4_heat_in = pool_heat(out4)\n",
    "heat4_in = pool4_heat_in.reshape(-1,4,np.prod([*out4.shape[-2:]]))\n",
    "heat4_in.shape"
   ]
  },
  {
   "cell_type": "code",
   "execution_count": 96,
   "metadata": {},
   "outputs": [
    {
     "data": {
      "text/plain": [
       "torch.Size([1, 4, 220])"
      ]
     },
     "execution_count": 96,
     "metadata": {},
     "output_type": "execute_result"
    }
   ],
   "source": [
    "lstm1 = torch.nn.LSTM(\n",
    "    input_size=heat4_in.shape[-1],\n",
    "    hidden_size=heat4_in.shape[-1],\n",
    "    num_layers=1,\n",
    "    batch_first=True,\n",
    "    bidirectional=False,\n",
    ")\n",
    "h01 = torch.zeros(\n",
    "    1,\n",
    "    heat4_in.size(0),\n",
    "    heat4_in.shape[-1],\n",
    "    device=x.device\n",
    ").requires_grad_()\n",
    "\n",
    "# Initialize cell state\n",
    "c01 = torch.zeros(\n",
    "    1,\n",
    "    heat4_in.size(0),\n",
    "    heat4_in.shape[-1],\n",
    "    device=x.device\n",
    ").requires_grad_()\n",
    "heat4_out , hidden_state = lstm1(heat4_in,(h01,c01))\n",
    "heat4_out.shape"
   ]
  },
  {
   "cell_type": "code",
   "execution_count": 105,
   "metadata": {},
   "outputs": [
    {
     "data": {
      "text/plain": [
       "torch.Size([16, 11, 20, 1])"
      ]
     },
     "execution_count": 105,
     "metadata": {},
     "output_type": "execute_result"
    }
   ],
   "source": [
    "heat4_out = heat4_out.reshape(-1,*out4.shape[-2:],1)\n",
    "heat4_out.shape"
   ]
  },
  {
   "cell_type": "code",
   "execution_count": 106,
   "metadata": {},
   "outputs": [
    {
     "data": {
      "text/plain": [
       "torch.Size([1, 11, 20, 1])"
      ]
     },
     "execution_count": 106,
     "metadata": {},
     "output_type": "execute_result"
    }
   ],
   "source": [
    "b1 = pool4_heat_in.reshape(1,4,*out4.shape[-2:],1)[:,4-3,:,:,:]\n",
    "b1.shape"
   ]
  },
  {
   "cell_type": "code",
   "execution_count": 107,
   "metadata": {},
   "outputs": [
    {
     "data": {
      "text/plain": [
       "torch.Size([16, 11, 20, 1])"
      ]
     },
     "execution_count": 107,
     "metadata": {},
     "output_type": "execute_result"
    }
   ],
   "source": [
    "pool4_heat_out = torch.add(heat4_out,b1)\n",
    "pool4_heat_out.shape"
   ]
  },
  {
   "attachments": {},
   "cell_type": "markdown",
   "metadata": {},
   "source": [
    "### pool out5"
   ]
  },
  {
   "cell_type": "code",
   "execution_count": 100,
   "metadata": {},
   "outputs": [
    {
     "data": {
      "text/plain": [
       "torch.Size([4, 64, 5, 10])"
      ]
     },
     "execution_count": 100,
     "metadata": {},
     "output_type": "execute_result"
    }
   ],
   "source": [
    "out5 = max_pool(relu(conv4(out4)))\n",
    "out5.shape"
   ]
  },
  {
   "cell_type": "code",
   "execution_count": 101,
   "metadata": {},
   "outputs": [
    {
     "data": {
      "text/plain": [
       "torch.Size([1, 4, 50])"
      ]
     },
     "execution_count": 101,
     "metadata": {},
     "output_type": "execute_result"
    }
   ],
   "source": [
    "pool5_heat_in = pool_heat(out5)\n",
    "heat5_in = pool5_heat_in.reshape(-1,4,np.prod([*out5.shape[-2:]]))\n",
    "heat5_in.shape"
   ]
  },
  {
   "cell_type": "code",
   "execution_count": 103,
   "metadata": {},
   "outputs": [
    {
     "data": {
      "text/plain": [
       "torch.Size([1, 4, 50])"
      ]
     },
     "execution_count": 103,
     "metadata": {},
     "output_type": "execute_result"
    }
   ],
   "source": [
    "lstm2 = torch.nn.LSTM(\n",
    "    input_size=heat5_in.shape[-1],\n",
    "    hidden_size=heat5_in.shape[-1],\n",
    "    num_layers=1,\n",
    "    batch_first=True,\n",
    "    bidirectional=False,\n",
    ")\n",
    "h02 = torch.zeros(\n",
    "    1,\n",
    "    heat5_in.size(0),\n",
    "    heat5_in.shape[-1],\n",
    "    device=x.device\n",
    ").requires_grad_()\n",
    "\n",
    "# Initialize cell state\n",
    "c02 = torch.zeros(\n",
    "    1,\n",
    "    heat5_in.size(0),\n",
    "    heat5_in.shape[-1],\n",
    "    device=x.device\n",
    ").requires_grad_()\n",
    "heat5_out , hidden_state = lstm2(heat5_in,(h02,c02))\n",
    "heat5_out.shape"
   ]
  },
  {
   "cell_type": "code",
   "execution_count": 104,
   "metadata": {},
   "outputs": [
    {
     "data": {
      "text/plain": [
       "torch.Size([4, 5, 10, 1])"
      ]
     },
     "execution_count": 104,
     "metadata": {},
     "output_type": "execute_result"
    }
   ],
   "source": [
    "heat5_out = heat5_out.reshape(-1,*out5.shape[-2:],1)\n",
    "heat5_out.shape"
   ]
  },
  {
   "cell_type": "code",
   "execution_count": 108,
   "metadata": {},
   "outputs": [
    {
     "data": {
      "text/plain": [
       "torch.Size([1, 5, 10, 1])"
      ]
     },
     "execution_count": 108,
     "metadata": {},
     "output_type": "execute_result"
    }
   ],
   "source": [
    "b2 = pool5_heat_in.reshape(1,4,*out5.shape[-2:],1)[:,4-3,:,:,:]\n",
    "b2.shape"
   ]
  },
  {
   "cell_type": "code",
   "execution_count": 109,
   "metadata": {},
   "outputs": [
    {
     "data": {
      "text/plain": [
       "torch.Size([4, 5, 10, 1])"
      ]
     },
     "execution_count": 109,
     "metadata": {},
     "output_type": "execute_result"
    }
   ],
   "source": [
    "pool5_heat_out = torch.add(heat5_out,b2)\n",
    "pool5_heat_out.shape"
   ]
  },
  {
   "attachments": {},
   "cell_type": "markdown",
   "metadata": {},
   "source": [
    "### pool5 upsampling\n",
    "\n"
   ]
  },
  {
   "cell_type": "code",
   "execution_count": null,
   "metadata": {},
   "outputs": [],
   "source": [
    "import torch.nn.functional as F\n",
    "'''\n",
    "\n",
    "input – input tensor of shape (minibatch,in_channels,iH,iW)(minibatch,in_channels,iH,iW)\n",
    "\n",
    "weight – filters of shape (in_channels,out_channelsgroups,kH,kW)(in_channels,groupsout_channels​,kH,kW)\n",
    "\n",
    "bias – optional bias of shape (out_channels)(out_channels). Default: None\n",
    "\n",
    "stride – the stride of the convolving kernel. Can be a single number or a tuple (sH, sW). Default: 1\n",
    "\n",
    "padding – dilation * (kernel_size - 1) - padding zero-padding will be added to both sides of each dimension in the input. Can be a single number or a tuple (padH, padW). Default: 0\n",
    "\n",
    "output_padding – additional size added to one side of each dimension in the output shape. Can be a single number or a tuple (out_padH, out_padW). Default: 0\n",
    "\n",
    "groups – split input into groups, in_channelsin_channels should be divisible by the number of groups. Default: 1\n",
    "\n",
    "dilation – the spacing between kernel elements. Can be a single number or a tuple (dH, dW). Default: 1\n",
    "\n",
    "'''\n",
    "y_up_tor = F.conv_transpose(y_tor, feats_tor, output_padding=(1,1), stride=(2,2))"
   ]
  },
  {
   "cell_type": "code",
   "execution_count": 33,
   "metadata": {},
   "outputs": [
    {
     "data": {
      "text/plain": [
       "(4, 180, 320, 3)"
      ]
     },
     "execution_count": 33,
     "metadata": {},
     "output_type": "execute_result"
    }
   ],
   "source": [
    "import numpy as np\n",
    "\n",
    "out = np.load('/data/humanoid_train_data/im_hm_interact_10.npz')\n",
    "im,hm,interact = out['img'],out['hm'],out['interact']\n",
    "im.shape"
   ]
  }
 ],
 "metadata": {
  "kernelspec": {
   "display_name": "cv",
   "language": "python",
   "name": "python3"
  },
  "language_info": {
   "codemirror_mode": {
    "name": "ipython",
    "version": 3
   },
   "file_extension": ".py",
   "mimetype": "text/x-python",
   "name": "python",
   "nbconvert_exporter": "python",
   "pygments_lexer": "ipython3",
   "version": "3.10.6"
  },
  "orig_nbformat": 4
 },
 "nbformat": 4,
 "nbformat_minor": 2
}
